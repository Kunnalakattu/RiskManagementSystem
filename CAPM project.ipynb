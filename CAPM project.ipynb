{
 "cells": [
  {
   "cell_type": "code",
   "execution_count": 1,
   "id": "0d1949bb",
   "metadata": {},
   "outputs": [],
   "source": [
    "import pandas as pd\n",
    "import numpy as np\n",
    "from datetime import datetime,timedelta\n",
    "import yfinance as yf\n",
    "import statsmodels.api as sm"
   ]
  },
  {
   "cell_type": "code",
   "execution_count": 14,
   "id": "3653331b",
   "metadata": {},
   "outputs": [],
   "source": [
    "def fetch_stock_data(ticker, start_date, end_date):\n",
    "    data = yf.download(ticker, start=start_date, end=end_date)['Adj Close']\n",
    "    data['Return'] = data.pct_change()\n",
    "    return data"
   ]
  },
  {
   "cell_type": "code",
   "execution_count": 15,
   "id": "50ee077e",
   "metadata": {},
   "outputs": [],
   "source": [
    "def fetch_portfolio_data(tickers, start_date, end_date):\n",
    "    stock_data = [fetch_stock_data(ticker, start_date, end_date) for ticker in tickers]\n",
    "    df = pd.concat([data['Return'] for data in stock_data], axis=1, keys=tickers)\n",
    "    df.columns = tickers\n",
    "    return df"
   ]
  },
  {
   "cell_type": "code",
   "execution_count": 16,
   "id": "0599cbae",
   "metadata": {},
   "outputs": [],
   "source": [
    "def calculate_portfolio_return(stock_returns, weight):\n",
    "    portfolio_return = stock_returns.dot(weight)\n",
    "    return portfolio_return"
   ]
  },
  {
   "cell_type": "code",
   "execution_count": 17,
   "id": "85fe8899",
   "metadata": {},
   "outputs": [],
   "source": [
    "def fetch_market_return(start_date, end_date):\n",
    "    sp500 = yf.download('^GSPC', start=start_date, end=end_date)['Adj Close'].pct_change()\n",
    "    return sp500"
   ]
  },
  {
   "cell_type": "code",
   "execution_count": 18,
   "id": "20c5b17b",
   "metadata": {},
   "outputs": [],
   "source": [
    "def measure_portfolio_beta(portfolio_return, market_return):\n",
    "    X = sm.add_constant(market_return)\n",
    "    model = sm.OLS(portfolio_return, X).fit()\n",
    "    beta = model.params[1]\n",
    "    return beta"
   ]
  },
  {
   "cell_type": "code",
   "execution_count": 25,
   "id": "b8933485",
   "metadata": {},
   "outputs": [],
   "source": [
    "def main():\n",
    "    tickers = ['TSM','GM','META','AMZN']\n",
    "    \n",
    "    end_date = datetime.now().date()\n",
    "    start_date = end_date-timedelta(days=256)\n",
    "    weight = [0.22,0.094,.20,0.486]\n",
    "\n",
    "    stock_returns = fetch_portfolio_data(tickers, start_date, end_date).dropna()\n",
    "    portfolio_return = calculate_portfolio_return(stock_returns, weight)\n",
    "    market_return = fetch_market_return(start_date, end_date).dropna()\n",
    "    beta = measure_portfolio_beta(portfolio_return, market_return)\n",
    "\n",
    "    print(\"Portfolio Beta:\", beta)"
   ]
  },
  {
   "cell_type": "code",
   "execution_count": 26,
   "id": "ad58eaa1",
   "metadata": {
    "scrolled": false
   },
   "outputs": [
    {
     "name": "stdout",
     "output_type": "stream",
     "text": [
      "[*********************100%***********************]  1 of 1 completed\n",
      "[*********************100%***********************]  1 of 1 completed\n"
     ]
    },
    {
     "name": "stderr",
     "output_type": "stream",
     "text": [
      "C:\\Users\\nirma\\AppData\\Local\\Temp\\ipykernel_18932\\2372833597.py:3: SettingWithCopyWarning: \n",
      "A value is trying to be set on a copy of a slice from a DataFrame\n",
      "\n",
      "See the caveats in the documentation: https://pandas.pydata.org/pandas-docs/stable/user_guide/indexing.html#returning-a-view-versus-a-copy\n",
      "  data['Return'] = data.pct_change()\n",
      "C:\\Users\\nirma\\AppData\\Local\\Temp\\ipykernel_18932\\2372833597.py:3: SettingWithCopyWarning: \n",
      "A value is trying to be set on a copy of a slice from a DataFrame\n",
      "\n",
      "See the caveats in the documentation: https://pandas.pydata.org/pandas-docs/stable/user_guide/indexing.html#returning-a-view-versus-a-copy\n",
      "  data['Return'] = data.pct_change()\n"
     ]
    },
    {
     "name": "stdout",
     "output_type": "stream",
     "text": [
      "[*********************100%***********************]  1 of 1 completed\n",
      "[*********************100%***********************]  1 of 1 completed\n"
     ]
    },
    {
     "name": "stderr",
     "output_type": "stream",
     "text": [
      "C:\\Users\\nirma\\AppData\\Local\\Temp\\ipykernel_18932\\2372833597.py:3: SettingWithCopyWarning: \n",
      "A value is trying to be set on a copy of a slice from a DataFrame\n",
      "\n",
      "See the caveats in the documentation: https://pandas.pydata.org/pandas-docs/stable/user_guide/indexing.html#returning-a-view-versus-a-copy\n",
      "  data['Return'] = data.pct_change()\n",
      "C:\\Users\\nirma\\AppData\\Local\\Temp\\ipykernel_18932\\2372833597.py:3: SettingWithCopyWarning: \n",
      "A value is trying to be set on a copy of a slice from a DataFrame\n",
      "\n",
      "See the caveats in the documentation: https://pandas.pydata.org/pandas-docs/stable/user_guide/indexing.html#returning-a-view-versus-a-copy\n",
      "  data['Return'] = data.pct_change()\n"
     ]
    },
    {
     "name": "stdout",
     "output_type": "stream",
     "text": [
      "[*********************100%***********************]  1 of 1 completed\n",
      "Portfolio Beta: 1.5026062345127382\n"
     ]
    }
   ],
   "source": [
    "if __name__ == \"__main__\":\n",
    "    main()"
   ]
  },
  {
   "cell_type": "code",
   "execution_count": null,
   "id": "e2fbfeec",
   "metadata": {},
   "outputs": [],
   "source": []
  }
 ],
 "metadata": {
  "kernelspec": {
   "display_name": "Python 3 (ipykernel)",
   "language": "python",
   "name": "python3"
  },
  "language_info": {
   "codemirror_mode": {
    "name": "ipython",
    "version": 3
   },
   "file_extension": ".py",
   "mimetype": "text/x-python",
   "name": "python",
   "nbconvert_exporter": "python",
   "pygments_lexer": "ipython3",
   "version": "3.9.13"
  }
 },
 "nbformat": 4,
 "nbformat_minor": 5
}
